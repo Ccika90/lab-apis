{
 "cells": [
  {
   "cell_type": "markdown",
   "id": "27422808-8a16-4be1-897f-57b379af8991",
   "metadata": {},
   "source": [
    "# Lab | APIs"
   ]
  },
  {
   "cell_type": "markdown",
   "id": "50f30950-3e31-499a-92ea-1535422c570b",
   "metadata": {},
   "source": [
    "In order to use the `Spotify` API (`SpotiPy`), create an account in `Spotify` and follow [these](https://developer.spotify.com/documentation/general/guides/app-settings/) steps. "
   ]
  },
  {
   "cell_type": "markdown",
   "id": "a0479b95-6ca5-415e-b894-1f5cb17b055b",
   "metadata": {},
   "source": [
    "## Authentication and initializing the API"
   ]
  },
  {
   "cell_type": "markdown",
   "id": "47d71611-c617-4972-a0c3-7090c24b399c",
   "metadata": {},
   "source": [
    "Save your client ID and your client secret in your preferred way, and read it or load it into the following variables:"
   ]
  },
  {
   "cell_type": "code",
   "execution_count": 106,
   "id": "04e12954-fd70-4311-88a5-fb7e2c29799c",
   "metadata": {},
   "outputs": [
    {
     "name": "stdout",
     "output_type": "stream",
     "text": [
      "Requirement already satisfied: spotipy in c:\\users\\umehc\\anaconda3\\lib\\site-packages (2.25.0)\n",
      "Requirement already satisfied: redis>=3.5.3 in c:\\users\\umehc\\anaconda3\\lib\\site-packages (from spotipy) (5.2.1)\n",
      "Requirement already satisfied: requests>=2.25.0 in c:\\users\\umehc\\anaconda3\\lib\\site-packages (from spotipy) (2.32.3)\n",
      "Requirement already satisfied: urllib3>=1.26.0 in c:\\users\\umehc\\anaconda3\\lib\\site-packages (from spotipy) (2.2.3)\n",
      "Requirement already satisfied: charset-normalizer<4,>=2 in c:\\users\\umehc\\anaconda3\\lib\\site-packages (from requests>=2.25.0->spotipy) (3.3.2)\n",
      "Requirement already satisfied: idna<4,>=2.5 in c:\\users\\umehc\\anaconda3\\lib\\site-packages (from requests>=2.25.0->spotipy) (3.7)\n",
      "Requirement already satisfied: certifi>=2017.4.17 in c:\\users\\umehc\\anaconda3\\lib\\site-packages (from requests>=2.25.0->spotipy) (2024.12.14)\n",
      "Requirement already satisfied: requests in c:\\users\\umehc\\anaconda3\\lib\\site-packages (2.32.3)\n",
      "Requirement already satisfied: charset-normalizer<4,>=2 in c:\\users\\umehc\\anaconda3\\lib\\site-packages (from requests) (3.3.2)\n",
      "Requirement already satisfied: idna<4,>=2.5 in c:\\users\\umehc\\anaconda3\\lib\\site-packages (from requests) (3.7)\n",
      "Requirement already satisfied: urllib3<3,>=1.21.1 in c:\\users\\umehc\\anaconda3\\lib\\site-packages (from requests) (2.2.3)\n",
      "Requirement already satisfied: certifi>=2017.4.17 in c:\\users\\umehc\\anaconda3\\lib\\site-packages (from requests) (2024.12.14)\n"
     ]
    }
   ],
   "source": [
    "# If you havent done so, install the spotipy wrapper\n",
    "!pip install spotipy\n",
    "!pip install requests"
   ]
  },
  {
   "cell_type": "markdown",
   "id": "dc0e86da-8846-4207-84c3-cd20b9e01d0e",
   "metadata": {},
   "source": [
    "Once you have done it, we will start initializing the API."
   ]
  },
  {
   "cell_type": "code",
   "execution_count": 378,
   "id": "03034bc6-9858-412a-83b7-18abdc345d7e",
   "metadata": {},
   "outputs": [
    {
     "name": "stdout",
     "output_type": "stream",
     "text": [
      "Access Token: BQDNNQPWbLGufZf-eWti3Pecvq80urxLowTqqFMpL9dSvgYdaBdMthiF9fbGxs8tiP-BATfeAmDKPMc0yQMpgzvJYqeeKchNoAeiPOKq5INV53JGzFXbKHMWtREd9gHxJo2N5dAfyDQ\n"
     ]
    }
   ],
   "source": [
    "import spotipy\n",
    "from spotipy.oauth2 import SpotifyClientCredentials\n",
    "from requests import post, get\n",
    "import base64\n",
    "\n",
    "\n",
    "# Set up the client credentials\n",
    "client_id = '37857e14d8894d8fad00d246d8c36e9c'\n",
    "client_secret = 
    "credentials = SpotifyClientCredentials(client_id=client_id, client_secret=client_secret)\n",
    "sp = spotipy.Spotify(client_credentials_manager=credentials)\n",
    "\n",
    "\n",
    "import requests\n",
    "import base64\n",
    "import json\n",
    "\n",
    "def get_token(client_id, client_secret):\n",
    "    url = \"https://accounts.spotify.com/api/token\"\n",
    "    headers = {\n",
    "        \"Authorization\": f\"Basic {base64.b64encode(f'{client_id}:{client_secret}'.encode()).decode()}\",\n",
    "        \"Content-Type\": \"application/x-www-form-urlencoded\"\n",
    "    }\n",
    "    data = {\n",
    "        \"grant_type\": \"client_credentials\"\n",
    "    }\n",
    "    \n",
    "    response = requests.post(url, headers=headers, data=data)\n",
    "    \n",
    "    # Check if the request was successful\n",
    "    if response.status_code != 200:\n",
    "        print(f\"Error: {response.status_code}\")\n",
    "        print(response.json())  # Print the response to understand the error\n",
    "        return None\n",
    "    \n",
    "    json_result = response.json()\n",
    "    \n",
    "    # Check if 'access_token' is in the response\n",
    "    if \"access_token\" not in json_result:\n",
    "        print(\"Error: 'access_token' not found in the response.\")\n",
    "        print(json_result)  # Print the response to understand the error\n",
    "        return None\n",
    "    \n",
    "    return json_result[\"access_token\"]\n",
    "\n",
    "# Example usage\n",
    "client_id = '37857e14d8894d8fad00d246d8c36e9c'\n",
    "client_secret = 'f0df87dc8ab04ec7af495babbc4ffc8b'\n",
    "token = get_token(client_id, client_secret)\n",
    "\n",
    "if token:\n",
    "    print(f\"Access Token: {token}\")\n",
    "\n",
    "def get_auth_header(token):\n",
    "    return {'Authorization': 'Bearer' + token}"
   ]
  },
  {
   "cell_type": "markdown",
   "id": "8fed9628-08d7-4290-a4be-5527696b01c5",
   "metadata": {},
   "source": [
    "## Using the search method"
   ]
  },
  {
   "cell_type": "markdown",
   "id": "6575a3c6-f25a-4905-b1f3-c0efd50dcc1e",
   "metadata": {},
   "source": [
    "Now, let's use the search method by introducing a \"query\". For example, let's try searching for \"Lady Gaga\":"
   ]
  },
  {
   "cell_type": "code",
   "execution_count": 415,
   "id": "edc14c95-474b-4e2a-aea3-bdfd0a205546",
   "metadata": {},
   "outputs": [],
   "source": [
    "#result.keys() # We can see that we only have tracks"
   ]
  },
  {
   "cell_type": "code",
   "execution_count": 115,
   "id": "ad8ef934-1dbb-4008-ac8e-f5c29823fe6a",
   "metadata": {},
   "outputs": [],
   "source": [
    "#results[\"tracks\"].keys() # Let's check the values"
   ]
  },
  {
   "cell_type": "code",
   "execution_count": 117,
   "id": "004b7814-4dd5-408e-b7ba-1da87f9250cb",
   "metadata": {},
   "outputs": [],
   "source": [
    "#results[\"tracks\"][\"href\"] # Query we have searched "
   ]
  },
  {
   "cell_type": "code",
   "execution_count": 119,
   "id": "7285cedd-fbe1-47cf-98d5-a7fdc3e5c8b8",
   "metadata": {
    "scrolled": true,
    "tags": []
   },
   "outputs": [],
   "source": [
    "#results[\"tracks\"][\"items\"] #items (actual tracks)"
   ]
  },
  {
   "cell_type": "code",
   "execution_count": 121,
   "id": "529fff56-47d3-4d78-8ff5-9530fe290d1d",
   "metadata": {},
   "outputs": [],
   "source": [
    "#results[\"tracks\"][\"limit\"]#Limit we have chosen"
   ]
  },
  {
   "cell_type": "code",
   "execution_count": 123,
   "id": "92c64c57-3bd2-4d42-bbd1-84a040f1e02a",
   "metadata": {},
   "outputs": [],
   "source": [
    "#results[\"tracks\"][\"next\"] #link to the next page (next 50 tracks)"
   ]
  },
  {
   "cell_type": "code",
   "execution_count": 125,
   "id": "f5ccdf79-5d9e-40de-adb9-2cc1e5b7c74a",
   "metadata": {
    "tags": []
   },
   "outputs": [],
   "source": [
    "#results[\"tracks\"][\"offset\"] # Actual offset (starting point)"
   ]
  },
  {
   "cell_type": "code",
   "execution_count": 127,
   "id": "356730c1-60a2-4ea8-bd2c-e0522bab8a4d",
   "metadata": {},
   "outputs": [],
   "source": [
    "#results[\"tracks\"][\"previous\"] #Previous search"
   ]
  },
  {
   "cell_type": "code",
   "execution_count": 129,
   "id": "7c44c8fd-63ea-45ba-94bd-5c5e8e1458b3",
   "metadata": {},
   "outputs": [],
   "source": [
    "#results[\"tracks\"][\"total\"] # Number of matches"
   ]
  },
  {
   "cell_type": "markdown",
   "id": "7a127c64-3274-4ecc-aa0f-83ae34af4655",
   "metadata": {},
   "source": [
    "## Exploring the tracks"
   ]
  },
  {
   "cell_type": "code",
   "execution_count": 132,
   "id": "6c3541a2-0fd2-41e0-9b27-60a7dc36c4cb",
   "metadata": {
    "scrolled": true,
    "tags": []
   },
   "outputs": [],
   "source": [
    "#results[\"tracks\"][\"items\"][0] # Explore the first song"
   ]
  },
  {
   "cell_type": "code",
   "execution_count": 134,
   "id": "f2c35eb2-3ea6-4329-9f29-7c062f466638",
   "metadata": {},
   "outputs": [],
   "source": [
    "#results[\"tracks\"][\"items\"][0].keys() # We will focus on album, artists, id, name, popularity, type and uri"
   ]
  },
  {
   "cell_type": "code",
   "execution_count": 136,
   "id": "889ca3c3-b0c8-4037-96fb-6add847f537f",
   "metadata": {},
   "outputs": [],
   "source": [
    "## Track artists\n",
    "#results[\"tracks\"][\"items\"][0][\"artists\"] "
   ]
  },
  {
   "cell_type": "code",
   "execution_count": 138,
   "id": "a9c6a0b2-cea7-48ff-8c51-179d15388aa2",
   "metadata": {},
   "outputs": [],
   "source": [
    "# Track artists names\n",
    "#for artist in results[\"tracks\"][\"items\"][0][\"artists\"]:\n",
    "    #print(artist[\"name\"])"
   ]
  },
  {
   "cell_type": "code",
   "execution_count": 140,
   "id": "6a826e9c-d2e7-4537-a82c-3dc3a2b80b9f",
   "metadata": {},
   "outputs": [],
   "source": [
    "# Track ID\n",
    "#results[\"tracks\"][\"items\"][0][\"id\"] "
   ]
  },
  {
   "cell_type": "code",
   "execution_count": 142,
   "id": "a5bd871b-6087-4680-819c-1a1d8ba879bc",
   "metadata": {},
   "outputs": [],
   "source": [
    "# Track name\n",
    "#results[\"tracks\"][\"items\"][0][\"name\"] "
   ]
  },
  {
   "cell_type": "code",
   "execution_count": 144,
   "id": "812661f1-29db-452f-a719-cdfbe95ba9f6",
   "metadata": {},
   "outputs": [],
   "source": [
    "# Popularity index\n",
    "#results[\"tracks\"][\"items\"][0][\"popularity\"] "
   ]
  },
  {
   "cell_type": "markdown",
   "id": "0e81c762-e6c5-424e-a4eb-12ab45dffb9f",
   "metadata": {},
   "source": [
    "Spotify songs are identified by either a \"url\", a \"uri\", or an \"id\". \n",
    "\n",
    "- The `id` is an alphanumeric code, and it's the nuclear part of the identifier.\n",
    "\n",
    "- The `uri` contains \"spotify:track\" before the id. An uri is useful because it can be searched manually in the Spotify app.\n",
    "\n",
    "- The `url` is a link to the song on the Spotify web player.\n"
   ]
  },
  {
   "cell_type": "code",
   "execution_count": 147,
   "id": "8bcdccfc-dde9-4f4b-8af5-3caa335b89b5",
   "metadata": {},
   "outputs": [],
   "source": [
    "#results[\"tracks\"][\"items\"][0][\"uri\"]"
   ]
  },
  {
   "cell_type": "markdown",
   "id": "71c3c9c1-4ec2-42bf-a243-b21105ae1699",
   "metadata": {},
   "source": [
    "## Exercise 1: Discovering New Music through Your Favorite Artists\n",
    "\n",
    "**Objective:** \n",
    "Uncover new music by exploring the top tracks of your favorite artists and their related artists.\n",
    "\n",
    "**Instructions:**\n",
    "\n",
    "1. **List Your Favorite Artists**:\n",
    "    - Make a list of your three favorite artists and store it in a variable named `artists`.\n",
    "    - Example: `artists = [\"Los Fabulosos Cadillacs\", \"Manu Chao\", \"Muchachito Bombo Infierno\"]`.\n",
    "\n",
    "2. **Fetch Top Tracks**:\n",
    "    - Write a function named `get_top_tracks`.\n",
    "    - This function should accept an artist's name and return the name of the first 5 top tracks by that artist.\n",
    "    - Use the function `get_top_tracks` to get the first 5 top tracks for each artist in your `artists` list and store the results in a new list named `top_tracks_list`.\n",
    "\n",
    "3. **Discover Related Artists**:\n",
    "    - Write a function named `find_related_artists`.\n",
    "    - This function should accept an artist's name and return the names of the first 5 artists related to the provided artist.\n",
    "    - Store the results in a list named `related_artists_list`.\n",
    "\n",
    "**Challenge:** \n",
    "Combine the above steps to create a playlist that includes the top tracks of your favorite artists and the top tracks of the artists related to them."
   ]
  },
  {
   "cell_type": "markdown",
   "id": "0c442378-e26f-47c8-b4f1-b4fa07089935",
   "metadata": {},
   "source": [
    "**Hint Section for 3. **Discover Related Artists**:**\n",
    "\n",
    "1. **Getting Artist ID**:\n",
    "    - Remember that every artist on Spotify has a unique identifier: their `id`. To get the related artists, you first need to fetch the ID of the given artist.\n",
    "    - Consider using the `sp.search` method to query the artist's name. The method requires a `q` parameter, which is your query (in this case, the artist's name). It also has a `limit` parameter, which specifies the number of tracks it returns. In this case, 1 track is enough, since we just want the artist ID. \n",
    "    - Each track in the results has an associated 'artists' field. This field is a list containing details about all artists involved in that track.\n",
    "   - For most tracks, especially those by a single artist, this list will contain one artist. From this artist's details, you can extract the 'id' field, which is the unique identifier for that artist on Spotify.\n",
    "\n",
    "\n",
    "3. **Fetching Related Artists**:\n",
    "    - Once you have the artist's ID, you can use another SpotiPy method to fetch related artists. Think about which SpotiPy method allows you to get related artists using an artist's ID. Here is the documentation link: https://spotipy.readthedocs.io/en/2.22.1/. \n",
    "    - This method will return a list of related artists. You'll need to extract the relevant details (artist names) from this list.\n",
    "\n",
    "4. **Iterating for Multiple Artists**:\n",
    "    - Once you have a function that returns related artists names for one artist, you can use a list comprehension to apply this function to a list of artist names.\n",
    "\n",
    "5. **Testing**:\n",
    "    - Always test your function with one artist name first. Once you're confident it works, then apply it to the entire list.\n",
    "\n",
    "Remember, the key is to break the problem down into manageable steps. Use the SpotiPy documentation as a resource to understand available methods and their return structures."
   ]
  },
  {
   "cell_type": "code",
   "execution_count": 349,
   "id": "71777284-8fd5-4e2b-81db-76a30dc6822b",
   "metadata": {},
   "outputs": [],
   "source": [
    "#1. create a list called artists containing my three favourite artists\n",
    "artists = ['Chris Brown', 'Jay Z','Kanye West']"
   ]
  },
  {
   "cell_type": "code",
   "execution_count": 351,
   "id": "29694252-f217-454d-8881-681b2b6eeb1e",
   "metadata": {},
   "outputs": [
    {
     "name": "stdout",
     "output_type": "stream",
     "text": [
      "[{'Chris Brown': ['Under The Influence', 'International Love (feat. Chris Brown)', 'Superhero (Heroes & Villains) [with Future & Chris Brown]', 'Forever', 'Residuals']}, {'Jay Z': ['Empire State Of Mind', 'Ni**as In Paris', 'Run This Town', 'Numb / Encore', 'No Church In The Wild']}, {'Kanye West': ['Heartless', 'Flashing Lights', 'CARNIVAL', 'I Wonder', 'Violent Crimes']}]\n"
     ]
    }
   ],
   "source": [
    "#2. Fetch top 5\n",
    "def get_top_tracks(artist_name):\n",
    "    # Search for the artist by name\n",
    "    results = sp.search(q=artist_name, type='artist')\n",
    "    if results['artists']['items']:\n",
    "        artist_id = results['artists']['items'][0]['id']\n",
    "        # Get the top tracks for the artist\n",
    "        top_tracks = sp.artist_top_tracks(artist_id)\n",
    "        # Extract the names of the top 5 tracks\n",
    "        return [track['name'] for track in top_tracks['tracks'][:5]]\n",
    "    else:\n",
    "        return []\n",
    "\n",
    "# List of artists\n",
    "artists = ['Chris Brown', 'Jay Z', 'Kanye West']\n",
    "\n",
    "# Get top tracks for each artist\n",
    "top_tracks_list = []\n",
    "for artist in artists:\n",
    "    top_tracks = get_top_tracks(artist)\n",
    "    top_tracks_list.append({artist: top_tracks})\n",
    "\n",
    "# Print the results\n",
    "print(top_tracks_list)"
   ]
  },
  {
   "cell_type": "code",
   "execution_count": 353,
   "id": "7b186cd9-91e4-4d33-a3d9-c13df0822c47",
   "metadata": {},
   "outputs": [
    {
     "name": "stdout",
     "output_type": "stream",
     "text": [
      "[{'Chris Brown': ['Brent Faiyaz', 'Chris Brown', 'Bob Marley & The Wailers', 'SZA', 'Bebe Rexha']}, {'Jay Z': ['2Pac', 'Nas', 'RZA', 'Rakim', 'Mase']}, {'Kanye West': ['Rap La Rue', 'RAPK', 'Raphael Kempermann', 'Rap65Killer', 'RM']}]\n"
     ]
    }
   ],
   "source": [
    "#3. Discover related artists\n",
    "def find_artists_in_genre(artist_name):\n",
    "    try:\n",
    "        # Search for the artist by name\n",
    "        results = sp.search(q=artist_name, type='artist')\n",
    "        if results['artists']['items']:\n",
    "            artist_id = results['artists']['items'][0]['id']\n",
    "            # Get the artist's genres\n",
    "            artist_info = sp.artist(artist_id)\n",
    "            genres = artist_info['genres']\n",
    "            \n",
    "            # Search for other artists in the same genre\n",
    "            related_artists = sp.search(q=' OR '.join(genres), type='artist', limit=5)\n",
    "            return [artist['name'] for artist in related_artists['artists']['items']]\n",
    "        else:\n",
    "            return []\n",
    "    except Exception as e:\n",
    "        print(f\"Error retrieving artists for {artist_name}: {e}\")\n",
    "        return []\n",
    "\n",
    "#List of artists\n",
    "artists = ['Chris Brown', 'Jay Z', 'Kanye West']\n",
    "\n",
    "# Get related artists for each artist\n",
    "related_artists_list = []\n",
    "for artist in artists:\n",
    "    related_artists = find_artists_in_genre(artist)\n",
    "    related_artists_list.append({artist: related_artists})\n",
    "\n",
    "#Print the results\n",
    "print(related_artists_list)"
   ]
  },
  {
   "cell_type": "code",
   "execution_count": 355,
   "id": "f6a528d2-499f-402b-bd2a-3c420661136e",
   "metadata": {},
   "outputs": [
    {
     "name": "stdout",
     "output_type": "stream",
     "text": [
      "Combined Playlist:\n",
      "Schöneberg/Kreuzberg by RAPK\n",
      "luther (with sza) by SZA\n",
      "The World Is Yours by Nas\n",
      "Jamming by Bob Marley & The Wailers\n",
      "N.Y. State of Mind by Nas\n",
      "Forever by Chris Brown\n",
      "All Eyez On Me (ft. Big Syke) by 2Pac\n",
      "von der Gosse by Rap La Rue\n",
      "Numb / Encore by Jay Z\n",
      "If I Ruled the World (Imagine That) (feat. Lauryn Hill) by Nas\n",
      "No Church In The Wild by Jay Z\n",
      "Violent Crimes by Kanye West\n",
      "It's Been A Long Time by Rakim\n",
      "Ambitionz Az A Ridah by 2Pac\n",
      "Grits by RZA\n",
      "Ni**as In Paris by Jay Z\n",
      "Run This Town by Jay Z\n",
      "I Got Five On It Remix by Luniz\n",
      "Poison by Brent Faiyaz\n",
      "Me, Myself & I by Bebe Rexha\n",
      "Best Time by Brent Faiyaz\n",
      "California Love - Original Version by 2Pac\n",
      "Come back to me by RM\n",
      "One Love / People Get Ready by Bob Marley & The Wailers\n",
      "International Love (feat. Chris Brown) by Chris Brown\n",
      "In the Name of Love by Bebe Rexha\n",
      "We Got More by Luniz\n",
      "The Baddest Man Alive by RZA\n",
      "Hit 'Em Up - Single Version by 2Pac\n",
      "LOST! by RM\n",
      "Still Life (with Anderson .Paak) by RM\n",
      "Clouded by Brent Faiyaz\n",
      "Still Dreaming by Nas\n",
      "When I B On Tha Mic by Rakim\n",
      "Fieber by RAPK\n",
      "I Got 5 On It by Luniz\n",
      "Meant to Be (feat. Florida Georgia Line) by Bebe Rexha\n",
      "Could You Be Loved by Bob Marley & The Wailers\n",
      "It Ain't Hard to Tell by Nas\n",
      "Wonders (feat. Rakim) by Rakim\n",
      "ALL MINE by Brent Faiyaz\n",
      "I'm Good (Blue) by Bebe Rexha\n",
      "Kapitel 1 by Raphael Kempermann\n",
      "Kapitel 7 by Raphael Kempermann\n",
      "Superhero (Heroes & Villains) [with Future & Chris Brown] by Chris Brown\n",
      "Waiting For The World To End by Rakim\n",
      "Empire State Of Mind by Jay Z\n",
      "30 For 30 (with Kendrick Lamar) by SZA\n",
      "Is This Love by Bob Marley & The Wailers\n",
      "Breathe (feat. RZA) [Liam H and Rene LaVice Re-Amp] by RZA\n",
      "Three Little Birds by Bob Marley & The Wailers\n",
      "Egal by Rap La Rue\n",
      "17 by Rap65Killer\n",
      "I Got 5 On It - Tethered Mix from US by Luniz\n",
      "Shutdown by RAPK\n",
      "All The Stars (with SZA) by SZA\n",
      "Heartless by Kanye West\n",
      "CARNIVAL by Kanye West\n",
      "SWEET / I THOUGHT YOU WANTED TO DANCE (feat. Brent Faiyaz & Fana Hues) by Brent Faiyaz\n",
      "Kapitel 19 by Raphael Kempermann\n",
      "Biochemical Equation by RZA\n",
      "Substanzen (feat. Aymen, Jiyo & ilo 7araga) by Rap La Rue\n",
      "I Wonder by Kanye West\n",
      "Changes by 2Pac\n",
      "Under The Influence by Chris Brown\n",
      "Loro Piana by Rap La Rue\n",
      "Nuts by RM\n",
      "Say My Name by Bebe Rexha\n",
      "Guess Who's Back by Rakim\n",
      "Wild Flower (with youjeen) by RM\n",
      "Residuals by Chris Brown\n",
      "Snooze by SZA\n",
      "petit frère by RAPK\n",
      "Up and down by Rap La Rue\n",
      "Survive The Night by RZA\n",
      "Kapitel 42 by Raphael Kempermann\n",
      "BMF by SZA\n",
      "Flashing Lights by Kanye West\n",
      "BHZRAPK by RAPK\n"
     ]
    }
   ],
   "source": [
    "# List of artists and related artists\n",
    "artists = ['Chris Brown', 'Jay Z', 'Kanye West']\n",
    "related_artists_data = [\n",
    "    {'Chris Brown': ['Brent Faiyaz', 'Chris Brown', 'Bob Marley & The Wailers', 'SZA', 'Bebe Rexha']},\n",
    "    {'Jay Z': ['2Pac', 'Nas', 'Luniz', 'RZA', 'Rakim']},\n",
    "    {'Kanye West': ['Rap La Rue', 'RAPK', 'Raphael Kempermann', 'Rap65Killer', 'RM']}\n",
    "]\n",
    "\n",
    "# Create a set to avoid duplicates\n",
    "unique_songs = set()\n",
    "playlist = []\n",
    "\n",
    "# Get top tracks for each artist in the main list\n",
    "for artist in artists:\n",
    "    top_tracks = get_top_tracks(artist)\n",
    "    for track in top_tracks:\n",
    "        unique_songs.add((artist, track))\n",
    "\n",
    "# Get top tracks for each related artist\n",
    "for artist_dict in related_artists_data:\n",
    "    for artist, related_artists in artist_dict.items():\n",
    "        for related_artist in related_artists:\n",
    "            top_tracks = get_top_tracks(related_artist)\n",
    "            for track in top_tracks:\n",
    "                unique_songs.add((related_artist, track))\n",
    "\n",
    "# Combine the unique songs into a playlist\n",
    "for artist, track in unique_songs:\n",
    "    playlist.append(f\"{track} by {artist}\")\n",
    "\n",
    "# Print the final playlist\n",
    "print(\"Combined Playlist:\")\n",
    "for song in playlist:\n",
    "    print(song)"
   ]
  },
  {
   "cell_type": "markdown",
   "id": "94ad5fdc-22e5-4521-8aa1-c6833eb7e949",
   "metadata": {},
   "source": [
    "## Playlists\n",
    "\n",
    "The `sp.featured_playlists()` method in `spotipy` fetches a list of Spotify's featured playlists at a given moment. These are curated playlists that Spotify often highlights on the platform's homepage. The method provides a snapshot of the playlists that are being promoted or featured by Spotify at the time of the request.\n",
    "\n",
    "Once you've fetched the featured playlists, you can extract their IDs (and other details)."
   ]
  },
  {
   "cell_type": "code",
   "execution_count": 359,
   "id": "25fb0cf8-c13a-41b0-b8f8-7e0700fd1e41",
   "metadata": {
    "scrolled": true
   },
   "outputs": [
    {
     "name": "stdout",
     "output_type": "stream",
     "text": [
      "   1 spotify:playlist:0NfjMqrzcGKVsbYZmhf4Md Classic Honky Tonk\n",
      "   2 spotify:playlist:1scnlLVq91NGtsA9sh0hfw Nicholas Sparks | Songs from the Soundtracks\n",
      "   3 spotify:playlist:2NFOUmp2wyR5CrXtKDkUkB 1960s Nostalgia\n",
      "   4 spotify:playlist:1o2bTwofazfzElA5mXGf2t Breakup Blues\n",
      "   5 spotify:playlist:6cdV0hVW2suJaMOxzwE46S I Hate My Job.\n",
      "   6 spotify:playlist:2uhsnHgI4F2eFyvoMHY0GR Instrumental Rock\n",
      "   7 spotify:playlist:2uVP1agvV5rba3MqLQ0pzy Avant Folk\n",
      "   8 spotify:playlist:0BbcjurkvWrkWxKKLzcqIP The Perfect Crafternoon\n",
      "   9 spotify:playlist:44XJR1i3Vl2B3acOEYwinE Power Ballads\n",
      "  10 spotify:playlist:2YeGkAUQhmO8TCjSMbFYWf Energy + Positivity\n",
      "  11 spotify:playlist:0op6xwVK9pVhcxozSQPEsJ Namaste\n",
      "  12 spotify:playlist:2Ph68VcwRfqRdnrKhY3oPS Rustic Romance Wedding\n",
      "  13 spotify:playlist:2VxQy0Q22k1gP542tzaMCN Word of Mouth\n",
      "  14 spotify:playlist:0sDO43KAaJUWIYassTKWYf Indie Strings\n",
      "  15 spotify:playlist:2B64RN7KJte5x6iXgg02tv Vinyasa Flow\n",
      "  16 spotify:playlist:3OUguxmuL5x24sMAw4qPku Acoustic Commute\n",
      "  17 spotify:playlist:5v2J2noHVxPWgSrOw6lZsp Summertime Vibes\n",
      "  18 spotify:playlist:1W2XJETQjFYdzT4GuhBHmS More Banjo!\n",
      "  19 spotify:playlist:43rSnXFDoctqiZxvEqH14P Chill as Folk\n",
      "  20 spotify:playlist:1IKDP8o4UvpfLh0SJX2e1b The New Bohemian\n",
      "  21 spotify:playlist:44Ht3IACEyKqiLBZupIhIk Sweetgrass\n",
      "  22 spotify:playlist:62Tpw0jhT8kxF3KPbGciTk Sweet Winter Songs\n",
      "  23 spotify:playlist:0pHFNRP8qkYhal0q0Irp6D Disco Beats\n",
      "  24 spotify:playlist:7pD7pMFxcq8agMXqLQCggM Rock & Roots\n",
      "  25 spotify:playlist:0XDRWlx2B1C1OXlaLlld8t Interstate Drive Songs\n",
      "  26 spotify:playlist:67uEKAhAdvMJvumeC8ZgjB Low Key Revelry\n",
      "  27 spotify:playlist:0fmNiEOXSfBfurQwf4gG5L Best of 2016: Folk & Americana\n",
      "  28 spotify:playlist:7g3zHOim2XylTlM7Oittr8 Best of 2016:  Hot Country\n",
      "  29 spotify:playlist:2O0Nf9Mi5tM17PM7Ns6Fgu Guest List: Orb\n",
      "  30 spotify:playlist:1HdxEroWca3L8JR3lvnolH Artists Den + Spotify\n",
      "  31 spotify:playlist:1zriHsmiRJmTThtQk8UWPk Women in Music | Stories & Songs\n",
      "  32 spotify:playlist:57clV3IPw1TXSWdzzDVDwp BRILLIANTMINDS2016\n",
      "  33 spotify:playlist:79sVcfxVNazjyK2iBY9l3q Incoming\n",
      "  34 spotify:playlist:3QAT1vJA7CAIHIRP9Gkyqj AMY\n",
      "  35 spotify:playlist:2wqwH7uKckoLe7UVTx1RfO Follow Your Bliss\n",
      "  36 spotify:playlist:1uIp2WHCf6ODHxHRPmjWG5 Rest & Relaxation\n",
      "  37 spotify:playlist:6jUFiT3D8f4Rt9n6UnC1aB One Perfect Day\n",
      "  38 spotify:playlist:4Buj61XKuhfVLsW8rPX8YQ Get Happy!\n",
      "  39 spotify:playlist:6QAwHYtCdTdrgX6wh1iE9H Lazy Afternoon\n",
      "  40 spotify:playlist:4qq3MCSLrDgYx7RfJBDvij The Bridge\n",
      "  41 spotify:playlist:6YMK6nqc1jS11fGraCU1o2 Spring Garden\n",
      "  42 spotify:playlist:4MLFX9OXy9ncfBlTfei9Ok Nightly Meditations\n",
      "  43 spotify:playlist:71WgbCkbVXGzAltJTAT6lD (Descent) A Beginning\n",
      "  44 spotify:playlist:0jJQDST7bzwAYlN19tFLXw Covered in Country\n",
      "  45 spotify:playlist:0mY9BQvlpraYLzg9BfKuVa Traffic Jams\n",
      "  46 spotify:playlist:2nb7lCySvvf7PNxHUD5oun #JazzAppreciationMonth\n",
      "  47 spotify:playlist:2f4rXblveCedKdU2adFgC8 Motivation Montage\n",
      "  48 spotify:playlist:7MsOqrEv1TxiHPDiYlWVLx Sugar & Spice\n",
      "  49 spotify:playlist:3TymQFosH9UgfP5jV5mPEe Soul Soothers\n",
      "  50 spotify:playlist:1JuraqRjLX4CmhyvvuXiPF Winding Roads\n",
      "  51 spotify:playlist:0NaXa68Xyo4wmMiun5Lqgm Carpool Karaoke\n",
      "  52 spotify:playlist:5JXV7ioEqB9ZA1b1RjSLVg Songbirds\n",
      "  53 spotify:playlist:3fqSEmStIKS8s3mCCRQFid Into the Woods\n",
      "  54 spotify:playlist:2EjRsHG8m4bGCrhCoJ1ykn Bluegrass Byways\n",
      "  55 spotify:playlist:6pn7MZpvAxlKPzspzMR6T6 The Scenic Route\n",
      "  56 spotify:playlist:3g2dsbLbtpOz0Gpo4W50QK We Dem Girlz\n",
      "  57 spotify:playlist:2PE0DbAlT8ZFiiYaCsCm4Q 1960\n",
      "  58 spotify:playlist:7EhO7YjjFdrNRtTHcRrnnQ 1961\n",
      "  59 spotify:playlist:7GSt7smvMMAiOFmPJ17jEf 1962\n",
      "  60 spotify:playlist:6c1DPPuq4eNKcS2usgij9m 1963\n",
      "  61 spotify:playlist:2XFhZrcFAFFvBLjRQrw9wI 1964\n",
      "  62 spotify:playlist:48GGszBLm7kS5D1xJuMnxD 1965\n",
      "  63 spotify:playlist:41YL3HcXd3zTXa1rMZY5uR 1966\n",
      "  64 spotify:playlist:3nT5EK7WTRbRZ5vtWg5irD 1967\n",
      "  65 spotify:playlist:0sbkEFgqbA3Jjot2lbqsyx 1968\n",
      "  66 spotify:playlist:1xZ87c95aRIeyvqVoKCtdM 1969\n",
      "  67 spotify:playlist:09D0CKBRWkBBoPn46V6YTO 1970\n",
      "  68 spotify:playlist:5xAfItDaeAViBRNdSuQ7ZG 1971\n",
      "  69 spotify:playlist:1DcArrb34m9SS3o8O2dATX 1972\n",
      "  70 spotify:playlist:5WUFWhGRVpi4ED9QpK2hOF 1973\n",
      "  71 spotify:playlist:78UTV8Gw5bHpyWc65qR4Px 1974\n",
      "  72 spotify:playlist:67FrRIrS2v0WAs8yE2JTUM 1975\n",
      "  73 spotify:playlist:3axv4DMbWHWf7uxOPB1I7K 1976\n",
      "  74 spotify:playlist:2cIkPMesqdx5VV6IAvX9bE 1977\n",
      "  75 spotify:playlist:05dTMGk8MjnpQg3bKuoXcc 1978\n",
      "  76 spotify:playlist:2xtEcvpPTus59Ppa0fv3xP 1979\n",
      "  77 spotify:playlist:4j0G7LOHRpKYDDXa8lxUik 1980\n",
      "  78 spotify:playlist:5Co3nToduGTXXF1ra9gXB3 1981\n",
      "  79 spotify:playlist:722UH6DU3oigTYKBnfBZSy 1982\n",
      "  80 spotify:playlist:2wHQqJDXcWgQ4GLdVCfb8G 1983\n",
      "  81 spotify:playlist:0FXAO6yBxrfz5PTOEuvq67 1984\n",
      "  82 spotify:playlist:5p5jgESe4r75R70Rzvqpcy 1985\n",
      "  83 spotify:playlist:3GM3OMvut5VuRht0dr8GJX 1986\n",
      "  84 spotify:playlist:6sKz6mI28U6Dcj7a8WpRnQ 1987\n",
      "  85 spotify:playlist:1ASJaLRG6NhOpwc8vGYceZ 1989\n",
      "  86 spotify:playlist:0COE1X7FirWRdfOgls1JJV 1990\n",
      "  87 spotify:playlist:6ATJMRUakF2bhZcPBYjnD5 1991\n",
      "  88 spotify:playlist:62NfPhRvacdmSAsNghaRs5 1992\n",
      "  89 spotify:playlist:33sPgLhtkMgQLWMgdHRQma 1993\n",
      "  90 spotify:playlist:27hnSuEcFg6wr5C5t3J5eL 1994\n",
      "  91 spotify:playlist:1FDK3hDHMSyzjC1IpdIOU3 1996\n",
      "  92 spotify:playlist:4nftZhTZDARHbC2oX5l2Vw 1997\n",
      "  93 spotify:playlist:1WkrD0MvdN3BcLa4DXBRCQ 1999\n",
      "  94 spotify:playlist:0JvFNpF6sn3LeV5LXbbSxv 2000\n",
      "  95 spotify:playlist:5TUU1rXz87AipJYg92AXFg 2001\n",
      "  96 spotify:playlist:665gwFk3RaSHbgiimtgok0 2002\n",
      "  97 spotify:playlist:2I7h7Mj5bGlqhI4PyupTPF 2003\n",
      "  98 spotify:playlist:1XbPuTCA2KsqAOn9PJploZ 2004\n",
      "  99 spotify:playlist:1Gn0PYtF7VmfuZD0Gb91fN 2006\n",
      " 100 spotify:playlist:0KIKHBXChX4m2MVm8qQk6N 2007\n",
      " 101 spotify:playlist:3jibtPWLDXBK0OCJN6Ztsf 2008\n",
      " 102 spotify:playlist:1fLy5EE5473UueC82LvQub 2009\n",
      " 103 spotify:playlist:2eCpwX876ZuWtIsZweYMnr 2010\n",
      " 104 spotify:playlist:0BXZJ6BiA151CzaMcTKPMN 2011\n",
      " 105 spotify:playlist:7z2Wo5a21ENb24YGcEdoTE 2012\n",
      " 106 spotify:playlist:3D8eZBmcXjAjFzUjYtrl6f Dear Mama\n",
      " 107 spotify:playlist:23sHdrU9wnUTqYjHZQ101O Top 100 tracks of 2014 - Sweden\n",
      " 108 spotify:playlist:2rdMSQHM9YryNLPnEbQ7g6 Joe Cocker\n",
      " 109 spotify:playlist:7qLIVhpCFAiX1Teqf3L6Y4 Happy Birthday Cheryl!\n",
      " 110 spotify:playlist:5PzDJIsyNnFxgu0t6Lf41G June 2\n",
      " 111 spotify:playlist:7IwNlM5pdX8XWPyhMRhq64 May 20\n",
      " 112 spotify:playlist:2UwTnYkh7zZjMY6NEQdP95 Grazia Daily: Summer 2013\n",
      " 113 spotify:playlist:6cSrBkF4TPHetlU033IopA LSP\n",
      " 114 spotify:playlist:61T3llVc7dJDCZf1SR72c0 Vogue Travel: The Sound of the Upper East Side\n",
      " 115 spotify:playlist:1OhJNFdK6FhLToiHmx7abI POST\n",
      " 116 spotify:playlist:1npVCZGxmhbfhAyeDEqhwA Disclosure's Spotify Playlist\n",
      " 117 spotify:playlist:78Afk1ZdGIAwEG8s3hq49D The Roots of... Mumford & Sons\n",
      " 118 spotify:playlist:1pARmsw0z4yebhBtZKxAU0 June 10\n",
      " 119 spotify:playlist:5hINCaYWvVwzzLmhh4y11x HAIM\n",
      " 120 spotify:playlist:6llXb59kkj2STIMBcDobJT 101_FTB\n",
      " 121 spotify:playlist:2ns4wV7T6X3vlCnzxYwagu Grazia Daily: The Best of Primavera\n",
      " 122 spotify:playlist:4fFfXVLYv59XIfPdUvMqKC braids\n",
      " 123 spotify:playlist:31agQ1yW51tGsDIFZbAZMl XFM JUNE 26\n",
      " 124 spotify:playlist:1omLAKnMAhhkMSe2IGisUZ The Beach Boys: The Real Best Of...\n",
      " 125 spotify:playlist:0kfqBZx9obUKiLVDwTqGly boys cast\n",
      " 126 spotify:playlist:2G5Wlqt6clkHH2KFK2LS5Q Happy Birthday George!\n",
      " 127 spotify:playlist:6vpXSVefNo73POjhwyiWmu Remembering 2Pac\n",
      " 128 spotify:playlist:3rMnCpY0WEROlje2b8Bjdn The Hot Sounds of 1926\n",
      " 129 spotify:playlist:45Cyxm3R3Gpn2upYrjcPbc Happy Birthday Kanye!\n",
      " 130 spotify:playlist:0dVRyMERU2g9M4tWEfaD5B Mollie King \n",
      " 131 spotify:playlist:5Ir6gs0eXKyPj3Qin8uEun Happy Birthday Sir Tom!\n",
      " 132 spotify:playlist:44uPoVqT6tOn5AphWVnSvu Happy Birthday Prince!\n",
      " 133 spotify:playlist:66uSq0mmMKat8vPRxsbmhp Happy Birthday Joe Cocker\n",
      " 134 spotify:playlist:4njfFyb4EgzewhH9kTQuwN Happy Birthday Mollie!\n",
      " 135 spotify:playlist:2vfyCK7WsXnVeItNwuiFFR Congratulations, Sofia and Daniel\n",
      " 136 spotify:playlist:5zpAWvvDe0Q8TXjrgInIke Welcome Baby Kimye!\n",
      " 137 spotify:playlist:52FOMIrumGaNXnwKfrlAVf The Roots of... Vampire Weekend\n",
      " 138 spotify:playlist:6kDXxWpyGJ2f7nQWQwOMBA PF\n",
      " 139 spotify:playlist:1dB0DjEsx9Gy0VG7Hmyc7Q Happy Birthday Nicole!\n",
      " 140 spotify:playlist:6r0dNjQD0WUHKs1gpMvpLk JIRMP\n",
      " 141 spotify:playlist:3npIV1kNBTG2NHwBfv4t5H Happy Birthday Sir Paul!\n",
      " 142 spotify:playlist:13WGZTkVyBhWCD2z7wSwe7 Happy Birthday, Lionel\n",
      " 143 spotify:playlist:2EsohEQHsGn1LWNgOxnuoI Global Music Day\n",
      " 144 spotify:playlist:0qNxhUDMiSLrSdTCYD87qn Dub Zone\n",
      " 145 spotify:playlist:2hirOuzhv3EK3AgEV2nKZn Hats The Way I Like It: Ascot 2013\n",
      " 146 spotify:playlist:4SJ51ZOUgnrv5GjY1GCZAL Pink Floyd: Start Here\n",
      " 147 spotify:playlist:3l6cfhKgkSNxYydKiD9o4G RIP James Gandolfini\n",
      " 148 spotify:playlist:6LY1QKuuZv6rtPKsHJSsnF Mountain Session\n",
      " 149 spotify:playlist:0tkdz9yYluhlxVE9BuJOPm Spotify Sessions\n",
      " 150 spotify:playlist:1YGlW3ovCv9Vek4CPnV0mZ Great Love Ballads\n",
      " 151 spotify:playlist:0YX4v2yeHtc1Dz43CYfZub Only Lovers Left Alive - Playlist by Jim Jarmusch and Carter Logan of SQÜRL\n",
      " 152 spotify:playlist:1kPmmFOfrsEk7KzW46uo8m CAZZETTE – Eject pt. I\n",
      " 153 spotify:playlist:3kNL4k3rmfGRfx577lL715 US Exclusives\n",
      " 154 spotify:playlist:7iUOaMP7iKI22rBNflBwjX Nelson Mandela Tribute\n",
      " 155 spotify:playlist:0aArwHugPhiiuaL8KxyVXQ Spotify Global Discoveries\n",
      " 156 spotify:playlist:4nInziu6O7lNV0ucn8w7YV Spotify Global Hits\n",
      " 157 spotify:playlist:5JOn3LSfpbCrOQ7azB4S6C New Singles on Spotify\n",
      " 158 spotify:playlist:5lMXuhAFbG0xiAw0XiYKAP Top Dads on Spotify\n",
      " 159 spotify:playlist:4nGMejqlEJh82huRHZ19cE Top Misquoted Song Lyrics\n",
      " 160 spotify:playlist:6WHZXvb7hEN5w9VMFWPm1x Keep On Pushing: A Labour Playlist\n",
      " 161 spotify:playlist:5BQyCxfPfCno0PuTqkZUgb Top Tracks in Kids\n",
      " 162 spotify:playlist:6dvI9YLz5JyXhoUo0eQJze Top Tracks in Popculture\n",
      " 163 spotify:playlist:2Hg4Q2t6mD8PITWKAQCMFD Top Tracks in Travel\n",
      " 164 spotify:playlist:7s0efM9c1ZS427tw2B6wEF Top Tracks in Workout\n",
      " 165 spotify:playlist:6NjugpbMNtXAtbv3NIbb3j Spotify House Thursday\n",
      " 166 spotify:playlist:53yqWl4VM0iD34tl27ABhY Walter - Dangerous\n",
      " 167 spotify:playlist:08ySLuUm0jMf7lJmFwqRMu Skyler - Strong\n",
      " 168 spotify:playlist:2nRUp0P50ClCxPibGSfFcL Hank - Gutsy\n",
      " 169 spotify:playlist:10zBfLMB5ty2Pec5LYRcgI Jesse - Street Smart\n",
      " 170 spotify:playlist:423y0vzm6cfn0Q1o3JBUDR Marie - Sassy\n",
      " 171 spotify:playlist:7dRuhLsXe96SgjYtPvMEcL Walt Jr. - Innocent\n",
      " 172 spotify:playlist:056jpfChuMP5D1NMMaDXRR Metallica: The Early Years\n",
      " 173 spotify:playlist:7yza99mVQaqnk4Hqs4T3kq New Wave Of British Heavy Metal\n",
      " 174 spotify:playlist:7buHbubC96caOTOSQQJ4pl Year in Metal 2014\n",
      " 175 spotify:playlist:2KSySxa7iudjK0IsgFxuaW We Love Elmo!\n",
      " 176 spotify:playlist:5sFZ3M4gXeYScR9VJTyBh2 Lost the Game? Drown Your Sorrows\n",
      " 177 spotify:playlist:15wD5DzfOIRx7QnJKDLtav Austin Pops\n",
      " 178 spotify:playlist:50l7KMPuO1jMnpofYHCwV1 Austin After Dark\n",
      " 179 spotify:playlist:2Ky26QAfAYo2Zdlo8MqcdH Punkcake\n",
      " 180 spotify:playlist:35HteeTTB5NE0hsliZ77H1 The Life Eclectic\n",
      " 181 spotify:playlist:2zlFpwRI7aroWy0ecv6O34 Evening Serenades\n",
      " 182 spotify:playlist:2idQpnxeioGlOsW66uaQ3U Flex & Flow\n",
      " 183 spotify:playlist:1oDFttzXiLUJLjMyulUugY Workday – Zen\n",
      " 184 spotify:playlist:26AgqJwDHB7p2SKJFHrtte Keep it Low Key\n",
      " 185 spotify:playlist:0Tn4EK4iKI58XnvWHuMMm0 Classical Café\n",
      " 186 spotify:playlist:5H22bACwDGRsIQQyE9oy3I The Grove\n",
      " 187 spotify:playlist:1Htq6RhM8B9MgMXdwqgPxW Fresh Jazz | The New Vanguard\n",
      " 188 spotify:playlist:6jbGdICAmvGjlURC1gcgRe Get Lifted\n",
      " 189 spotify:playlist:6juf9A1KL8naPZFa2YngsM Jazz on the Rocks\n",
      " 190 spotify:playlist:5cdRxEiQmawJaraYYEF7Di #SundayFunday\n",
      " 191 spotify:playlist:2dWfCGZguakRQagX7wM6Mi #FlashbackFriday\n",
      " 192 spotify:playlist:0kVaFpvoi0O4IbyJyEZckU Amped up.\n",
      " 193 spotify:playlist:5ahhg3aywppGeJs8tXvZOo The New Standards\n",
      " 194 spotify:playlist:2udwObkzQEPQWbUi95SzGM Up & Out\n",
      " 195 spotify:playlist:3vnx7BaCl3YmHrg3WGLedp Take it Easy\n",
      " 196 spotify:playlist:5XyoROE7WrTHtvcwFrhzO1 Britfolk\n",
      " 197 spotify:playlist:7iJKTAmd5aP1opVYLB3XJ4 Morning Rituals\n",
      " 198 spotify:playlist:5sty33UvgJZzeyfocoOaUV #MakeitHappen\n",
      " 199 spotify:playlist:5LtwydYUv9Um4D2toY3Wzh Singing in the Shower...\n",
      " 200 spotify:playlist:6zcjhNUkQ6taQK9hxhweCj Vintage Blues Folk\n",
      " 201 spotify:playlist:0aXP5u51kHZiKvxkUPq0IL Indie Ballads\n",
      " 202 spotify:playlist:25zEHXJzEQZU1eyF6eqEzD Barista Blend\n",
      " 203 spotify:playlist:5baU2nNxC8ag8XzlHNsANg Bring Back the 2000s\n",
      " 204 spotify:playlist:0ByLkBLDx1AS5yXJuBTyCd World Folk\n",
      " 205 spotify:playlist:6OeIIMFsdtsL9VUyL6PDvX Indie One Stop\n",
      " 206 spotify:playlist:4qstWgP2KMRSiTY3a1fF2R Beat Down Your Morning\n",
      " 207 spotify:playlist:2EcSH9oZNzBmGDNqoTdvBJ Wicked Wives Wine Party \n",
      " 208 spotify:playlist:2Rah43YvyO765e4gACIDef #Hotmess\n",
      " 209 spotify:playlist:5bjjHyKeiGnYdupfr3UUCW Ultimate Live Jams\n",
      " 210 spotify:playlist:5TQKebIP2y3YGxoklr72aV Stories for your Inner Child\n",
      " 211 spotify:playlist:01WIu4Rst0xeZnTunWxUL7 Beyond the Music\n",
      " 212 spotify:playlist:7a80QjnKAMnZu5Lx50INeh FriendsGiving\n",
      " 213 spotify:playlist:1M2abQkxCwrLjzLGgKWnDP Bellini's Opera\n",
      " 214 spotify:playlist:3kt5kS8Xqjfh8olOS24HX4 Red, White, & Blue\n",
      " 215 spotify:playlist:4sEKPcBYLcW3woDviiaigj 50 Songs for Snow\n",
      " 216 spotify:playlist:3KP0xIq8NrTP7BV2YhpHT5 It's a Boy!\n",
      " 217 spotify:playlist:52rJQYDn9Q5dufvGPqqzgf It's a Girl!\n",
      " 218 spotify:playlist:5pxi1UkDk0BbUPDTPjmi4v Graduation\n",
      " 219 spotify:playlist:4se8FxjaBGTHCTXIPoJlc0 Music Happens Here: The Music\n",
      " 220 spotify:playlist:1517hhPIVwA9EN41krpZo3 Best of 2016: Ultimate Indie\n",
      " 221 spotify:playlist:0tdTsuJmnf6cRE22DMcgIq The 2016 AMAs\n",
      " 222 spotify:playlist:6GZ9F4MZpPdHJEwhq3kHKG Classic Soul With Seth Rogen\n",
      " 223 spotify:playlist:2FmMinHNFfX3Apt34AwEqc Top Gaming Tracks: One Year Together\n",
      " 224 spotify:playlist:0NKCe5F0ORuDO4sPmqhvcQ Moving Castle Monthly\n",
      " 225 spotify:playlist:4A01B3wh6uv7yOpzYdVLR3 \n",
      " 226 spotify:playlist:4drXxn0GpOXXG6Rp5RvXca Bread & Dub\n",
      " 227 spotify:playlist:070FVPBKvfu6M5tf4I9rt2 The Blues Skies\n",
      " 228 spotify:playlist:5McngUiuALFIS4VVF4oko5 It Only Takes Two\n",
      " 229 spotify:playlist:2lOMjzyPMlcIvcaWlaF6MB Historic Venue: Ryman Auditorium\n",
      " 230 spotify:playlist:2JskSjr3Rl0LAv05L0hjV4 Vocal Acrobats\n",
      " 231 spotify:playlist:0TmNZR8QmL60k1gWWa37fg Macy's Thanksgiving Day Parade 2013\n",
      " 232 spotify:playlist:2d96NZvM6U7G14LDQdNfwS Austin Sounds\n",
      " 233 spotify:playlist:1MXbpQ8OiNsYtQxiXexPJ7 Sunset in Austin\n",
      " 234 spotify:playlist:6Sz7KT9MhChZuAJDKEWiLF Kanye To The\n",
      " 235 spotify:playlist:3sJ6SlgRo56Oa7YhHcLK5l Found Them First\n",
      " 236 spotify:playlist:2FjbiwWYHqEifO3VY5LYP8 New Year's 2015\n",
      " 237 spotify:playlist:3uDgik1xOhjYVsXucW7GEb A Bite Out Of The Afternoon\n",
      " 238 spotify:playlist:1Bxi8UJlVM7tLYDMOqsYYF Girls Night Out\n",
      " 239 spotify:playlist:7wiCMbRM2F6PQYGLwnJ7GJ Power Hour\n",
      " 240 spotify:playlist:3Nh594yQ7PkhEPzUUAKlnH Let Loose\n",
      " 241 spotify:playlist:3L1KIXcFcHhfeMlf7pD7IB Foam Party\n",
      " 242 spotify:playlist:6wz9sFJRqsmu7ldv0xJOIz An Epic Evening\n",
      " 243 spotify:playlist:08vPKM3pmoyF6crB2EtASQ Falling In Love\n",
      " 244 spotify:playlist:68oeNrImf1nxjL0RbpZkij Early Morning Rise\n",
      " 245 spotify:playlist:5qVqzAenJiKLfRny06XQf0 Backstage\n",
      " 246 spotify:playlist:1RKtKRcejWjN6ZOkghImIV Bullet for Hell\n",
      " 247 spotify:playlist:4C0S1zvtcMtk2notLxCL1J Grand Hustle Gang Spotify Picks\n",
      " 248 spotify:playlist:2nZndNnauO6SID8cjf4C9F MMG Spotify Picks\n",
      " 249 spotify:playlist:3hR94iGaotWbCFv5eDe0gZ Shady Records Spotify Picks\n",
      " 250 spotify:playlist:5VvCwhF9WqXKUaJLtJfeXn Taylor Gang Spotify Picks\n",
      " 251 spotify:playlist:6SGM9ZiMSfayAmJMNFlX2u country 90's\n",
      " 252 spotify:playlist:54LbSpjd64NjKPUyYAGkNU Hours of Ours\n",
      " 253 spotify:playlist:4p3lupatTubTWpTgCZjgpk Walk a Country Mile\n",
      " 254 spotify:playlist:6tLfPD2P9syvBV8rgO2Yq1 Honeysuckle Lazy\n",
      " 255 spotify:playlist:3FfBohQXFlgFnYubzrvoq4 On to Something Good\n",
      " 256 spotify:playlist:1S4JPQeJxtsN37X8as5EPk Back to the Roots\n",
      " 257 spotify:playlist:7CHrwiytyubNpnaZqyyUkb Beer 'n Burgers\n",
      " 258 spotify:playlist:4LmOnbOmtMUyQQjo6L9mct Bossa Nova\n",
      " 259 spotify:playlist:653U7cDBXXkPZ07Xk8kxL6 King of Pop\n",
      " 260 spotify:playlist:7hjaw2oDqkMS2uDk5vmzAu The Jazz Escape\n",
      " 261 spotify:playlist:6MtNKlWguIlTJ6Q7WAcDtU Workday - Country\n",
      " 262 spotify:playlist:3TurM2x1HaeNEztqBnomV6 Workday - Singer-songwriter\n",
      " 263 spotify:playlist:5rqcJUB5ox8BK3L3Ki7gfF Tunigo Live\n",
      " 264 spotify:playlist:4lCv0oN3gPxoqvXmA3cDjS Top Picks Toplists\n",
      " 265 spotify:playlist:3xGWOQUB6jgHd4PLVQvbfG Top Picks Pop\n",
      " 266 spotify:playlist:0q2dbyUyAuUkW3ec6XRwJD Top Picks Decades\n",
      " 267 spotify:playlist:45mRKVQrL1pK9tbRp25yro Top Picks Workout\n",
      " 268 spotify:playlist:1EQVvrXxgoWdqUHni1LOgm Top Picks Mood\n",
      " 269 spotify:playlist:4ruhrP9ntTdDMpjrk22v9u Top Picks Kids\n",
      " 270 spotify:playlist:3jh9R9uXIoozPA0uccJt2C Top Picks Classical\n",
      " 271 spotify:playlist:5QZZbWjNVjynssxTuO3f0f Top Picks Pop Culture\n",
      " 272 spotify:playlist:2WIkzIBRwM9wRD9innJ8b7 Top Picks Party\n",
      " 273 spotify:playlist:2b5yd7Ox7vb4OcPOOVYwFZ Top Picks Chill\n",
      " 274 spotify:playlist:6spPs4oxQEPSWXyXzqg8CR Top Picks Urban\n",
      " 275 spotify:playlist:285xVjuyHG2CusStdc8kCS Top Picks Club\n",
      " 276 spotify:playlist:7hx7ugiU2MaeXOjQRVDzdk Top Picks Country\n",
      " 277 spotify:playlist:2Mecjd64RGHE4vLDMuX88V Top Picks Events\n",
      " 278 spotify:playlist:38ZGEwSsiHoOEOu446h75W Top Picks Groove\n",
      " 279 spotify:playlist:5QOzTki17fEWKoUVcvTrI2 Top Picks Rock\n",
      " 280 spotify:playlist:4tSzT9BRuf3qRJDbPz4SlS Top Picks Romance\n",
      " 281 spotify:playlist:5LrQkRUFFuKWAJCECd2X9y Top Picks Jazz and Blues\n",
      " 282 spotify:playlist:4NAi06Izmj4CPqmMuY1RsE Top Picks Travel\n",
      " 283 spotify:playlist:4uLnCAHJw65SyFXXmBSuc0 Top Picks holiday\n",
      " 284 spotify:playlist:2ZMfoURN2ZwapN17Yb5d1k Undiscovered bands\n",
      " 285 spotify:playlist:2EaYMuzaVSdPjJOqg77E2E Women of Sweden\n",
      " 286 spotify:playlist:1m6DKwKNM1YLcm3OX6RzJg Kvinnor att ha koll på 2014\n",
      " 287 spotify:playlist:1xAmEtLT8c17IisGUa1f4M 38 Great Female Duets\n",
      " 288 spotify:playlist:7oTMBMLu6EI4l163C9fkhg Best of Boybands and Girl Groups\n",
      " 289 spotify:playlist:5MkJ5KSzz4wmCpIFvM6pFT Johnossi\n",
      " 290 spotify:playlist:2CTBt2glXb1wEzUa6wCbWU Håkan Hellström\n",
      " 291 spotify:playlist:52JrW4dL2mDe1Dneq0vH1I Rodriguez\n",
      " 292 spotify:playlist:4pL8YJw0ts5YcpxEgl1LiL Of Monsters and Men\n",
      " 293 spotify:playlist:3zxOlGe8vWwQA8eLRXBqTY Alicia Keys\n",
      " 294 spotify:playlist:6c51ZkUk7wO3Icy2sW3jvA Daniel Adams-Ray\n",
      " 295 spotify:playlist:4lwqQxljF1Rge3X4eMzdza Kendrick Lamar\n",
      " 296 spotify:playlist:5grxWts6M4gvPZFrWSNOBl Disclosure\n",
      " 297 spotify:playlist:67zOV0qxT0TT8JEHZDCBDd Miguel\n",
      " 298 spotify:playlist:0LqjAibgbS9ep32zZrDcAN Welcome Home\n",
      " 301 spotify:playlist:6PzNMpCPMDMo1pOUjNhDUC Kids B-day Party\n",
      " 302 spotify:playlist:2mADaSxlIcxRDSG9e9vLlh Walk The Dog\n",
      " 303 spotify:playlist:0uZg7go8TKu5hpv1L6CJ4y Tagga För OS\n",
      " 304 spotify:playlist:5wPUMOWXlhmk9XmGO4RtKz Commuter Flow (That Fire For Your Aux Cord)\n",
      " 305 spotify:playlist:1cddSHoeIrE3m0i8TqYNbn Annorlunda Kärlekslåtar\n",
      " 306 spotify:playlist:5Dn14a8hNIhT3NLLjUUBGL Fuck Valentine!\n",
      " 307 spotify:playlist:1apRF10Iufr0NBBiF1u7E5 Valentine anger\n",
      " 308 spotify:playlist:7qeSmszUjRBWOwHzlxfEXt Det är så tråkigt och trist utan dig\n",
      " 309 spotify:playlist:2PMlGn5a2jxukdhCYQyQvG Inget är större än KÄRLEKEN\n",
      " 310 spotify:playlist:3cC0Hnr7idCemR4JxOh2lI Folk & Rock 200 favoriter\n",
      " 311 spotify:playlist:24HEIuw8etbkitpDCxZ1dQ The Critics Choice 2012\n",
      " 312 spotify:playlist:0NYlvGXveeyvhb5G80LPtA EM Fotboll 2012\n",
      " 313 spotify:playlist:2IBmQa3jJULanJldYav1jW Way Out West 2013\n",
      " 314 spotify:playlist:3PNltrHQaYdqO0FdTAZ3wB Sweden Rock 2013\n",
      " 315 spotify:playlist:7LxjY6mdINPgSVhILU2nk6 Metaltown 2013\n",
      " 316 spotify:playlist:0pTJgTL7GIhxto5z35Rfwu Hultsfred 2013\n",
      " 317 spotify:playlist:3JqYduMX06DjhsJRBG4kN5 Putte i Parken 2013\n",
      " 318 spotify:playlist:4ftQXs8PU4QMqPLMaJG7QT Getaway Rock 2013\n",
      " 319 spotify:playlist:74Wbo0ObpdSDnCIGvEDHOk Bråvalla Festival 2013\n",
      " 320 spotify:playlist:5Q9dGaDLzwijaWkI4yFfSk Peace & Love 2013\n",
      " 321 spotify:playlist:2fC7gpl3V9MmCc8gBPHc66 Sonisphere\n",
      " 322 spotify:playlist:6ClBNzH2PMh2jvkEuSFBFJ Gainsville Stockholm 2012\n",
      " 323 spotify:playlist:0DH66SG2vZ7dIocTxxA5q9 Ystad Sweden Jazzfestival 2012\n",
      " 324 spotify:playlist:2XQnLAZo27gz7VGRBl34l9 Storsjöyran 2012\n",
      " 325 spotify:playlist:4muFXNJjmJvLWdHmx0PKYO Emmaboda 2012\n",
      " 326 spotify:playlist:6lrsZHHFL65pjpDcjv6sFi Stockholm Music & Arts 2012\n",
      " 327 spotify:playlist:0mJut6QO3dUUAOJlBPujT1 Popaganda 2012\n",
      " 328 spotify:playlist:6cSO5pHOCQxoEiXYDPa3Uq Metaltown 2012\n",
      " 329 spotify:playlist:7b1rMSnmiYfj8nH8spIjxF Urkult 2012\n",
      " 330 spotify:playlist:2xxkK8eaOyM6JRhHOheZBZ Sweden Rock Festival 2012\n",
      " 331 spotify:playlist:26yS4HN010lrCBBlCbjF2b Hultsfred 2012\n",
      " 332 spotify:playlist:5eRHTcvWyEU0MEzNOiR2j1 Putte i parken 2012\n",
      " 333 spotify:playlist:4mM7tVGeVv4dOFPTlftofk Getaway Rock 2012\n",
      " 334 spotify:playlist:7DcfXNVB5WpzYwCkqBaVDx Peace & Love 2012\n",
      " 335 spotify:playlist:33eWAE7F4bBUAjGtJVtCYB Sveriges Nationaldag\n",
      " 336 spotify:playlist:3ukqAcaahACMyRzpkwHXew New year's eve by Icona Pop\n",
      " 337 spotify:playlist:5zyeLrOc31CPX7uk9xNL7y Swing in the New Year\n",
      " 338 spotify:playlist:214Nwj78JwTfjSeQxbGxeX Alternative New Year's Eve\n",
      " 339 spotify:playlist:3yUO32lGCEnAfFGORSEsy4 Raw Expression\n",
      " 340 spotify:playlist:2k9EArKbf7N3QUmuNJHSo8 Intervju med Seinabo Sey\n",
      " 341 spotify:playlist:5sk53m6HgZorO1RDUkaiIZ The official Bråvalla Festival playlist 2017\n",
      " 342 spotify:playlist:73boXMJz9iBoXxQVFZ94r5 International Playboy\n",
      " 343 spotify:playlist:2y74Ha0ztRUcIYmqITh0D4 National Blood Week\n",
      " 344 spotify:playlist:1k9jG0FUp7BcrAF1MZSabO Most Listened To British Dads on Spotify\n",
      " 345 spotify:playlist:5ji4GZJpll6twskFvKxiHx dw-c\n",
      " 346 spotify:playlist:40VxbK9NqccdUDUpiUXmbp dw_g\n",
      " 347 spotify:playlist:0RTz1jFo5BXGPfI8eVf8sj Top Shower Songs\n",
      " 348 spotify:playlist:4lgseztVwmKQ8MNETPVIny foodora dinner playlist\n"
     ]
    }
   ],
   "source": [
    "#sp.featured_playlists() # We get a playlist id of a playlist we like\n",
    "\n",
    "playlists = sp.user_playlists('spotify')\n",
    "while playlists:\n",
    "    for i, playlist in enumerate(playlists['items']):\n",
    "        print(\"%4d %s %s\" % (i + 1 + playlists['offset'], playlist['uri'],  playlist['name']))\n",
    "    if playlists['next']:\n",
    "        playlists = sp.next(playlists)\n",
    "    else:\n",
    "        playlists = None"
   ]
  },
  {
   "cell_type": "markdown",
   "id": "90f558f3-c638-4df4-b5a4-e24f7847d52a",
   "metadata": {},
   "source": [
    "### Getting a Playlist's Details\n",
    "To fetch details about a specific playlist, you can use the playlist method. You'll need the playlist's Spotify ID."
   ]
  },
  {
   "cell_type": "markdown",
   "id": "0eef529f-617f-4ea3-8156-07472ac8e6d5",
   "metadata": {},
   "source": [
    "In this example, we will use the following playlist id: *37i9dQZF1DXd9zR7tdziuQ*"
   ]
  },
  {
   "cell_type": "code",
   "execution_count": null,
   "id": "46d35121-9256-4cf4-81f5-118b87f7af32",
   "metadata": {},
   "outputs": [],
   "source": []
  },
  {
   "cell_type": "code",
   "execution_count": null,
   "id": "5260f67f-6024-4fee-8449-30904f03bf76",
   "metadata": {},
   "outputs": [],
   "source": []
  },
  {
   "cell_type": "markdown",
   "id": "13bc8631-69f0-4b98-9cc9-5baecbaea9ba",
   "metadata": {},
   "source": [
    "### Getting Tracks from a Playlist\n",
    "If you want to get the tracks from a specific playlist, you can use the playlist_tracks method."
   ]
  },
  {
   "cell_type": "code",
   "execution_count": 5,
   "id": "69c78f8d-7e6a-4d15-bcbb-fc93edb82433",
   "metadata": {},
   "outputs": [
    {
     "ename": "NameError",
     "evalue": "name 'sp' is not defined",
     "output_type": "error",
     "traceback": [
      "\u001b[1;31m---------------------------------------------------------------------------\u001b[0m",
      "\u001b[1;31mNameError\u001b[0m                                 Traceback (most recent call last)",
      "Cell \u001b[1;32mIn[5], line 1\u001b[0m\n\u001b[1;32m----> 1\u001b[0m tracks \u001b[38;5;241m=\u001b[39m sp\u001b[38;5;241m.\u001b[39mplaylist_tracks(\u001b[38;5;124m'\u001b[39m\u001b[38;5;124m4lgseztVwmKQ8MNETPVIny\u001b[39m\u001b[38;5;124m'\u001b[39m)\n\u001b[0;32m      2\u001b[0m \u001b[38;5;28;01mfor\u001b[39;00m track \u001b[38;5;129;01min\u001b[39;00m tracks[\u001b[38;5;124m'\u001b[39m\u001b[38;5;124mitems\u001b[39m\u001b[38;5;124m'\u001b[39m]:\n\u001b[0;32m      3\u001b[0m     \u001b[38;5;28mprint\u001b[39m(track[\u001b[38;5;124m'\u001b[39m\u001b[38;5;124mtrack\u001b[39m\u001b[38;5;124m'\u001b[39m][\u001b[38;5;124m'\u001b[39m\u001b[38;5;124mname\u001b[39m\u001b[38;5;124m'\u001b[39m])\n",
      "\u001b[1;31mNameError\u001b[0m: name 'sp' is not defined"
     ]
    }
   ],
   "source": [
    "tracks = sp.playlist_tracks('4lgseztVwmKQ8MNETPVIny')\n",
    "for track in tracks['items']:\n",
    "    print(track['track']['name'])  # Print each track's name"
   ]
  },
  {
   "cell_type": "markdown",
   "id": "2775714d-acc7-4555-96bd-2c541ab0855e",
   "metadata": {},
   "source": [
    "### Getting Artists from a Playlist\n",
    "\n",
    "To extract all the artists from the tracks in a playlist, you'd typically follow these steps:\n",
    "\n",
    "1. Fetch the playlist's tracks.\n",
    "2. Iterate through each track.\n",
    "3. For each track, extract the associated artists."
   ]
  },
  {
   "cell_type": "code",
   "execution_count": 291,
   "id": "65c5e5c4-f186-42c6-b136-4ef02b0b01ff",
   "metadata": {},
   "outputs": [],
   "source": []
  },
  {
   "cell_type": "markdown",
   "id": "7b52207e-a4f0-4f90-9f4e-3170d7f0f3fe",
   "metadata": {},
   "source": [
    "## Exercise 2: Unraveling the World of Playlists\n",
    "\n",
    "\n",
    "1. **Featured Exploration**: \n",
    "   - Fetch the list of Spotify's current featured playlists. \n",
    "   - Extract and display the names and IDs of the top 5 featured playlists.\n",
    "   \n",
    "2. **Deep Dive**:\n",
    "   - Choose any one of the top 5 featured playlists (you can choose the one you personally find most interesting or simply pick one randomly).\n",
    "   - Fetch and display its name, description, and total track count.\n",
    "\n",
    "3. **Track-tastic**:\n",
    "   - Extract and display the names of the first 10 tracks in the chosen playlist.\n",
    "\n",
    "4. **Artistic Flair**:\n",
    "   - Create a dictionary where the keys are the names of the first 10 tracks, and the values are lists containing the names of the artists associated with each track.\n",
    "   - For example: `{\"TrackName1\": [\"Artist1\", \"Artist2\"], \"TrackName2\": [\"Artist3\"]}`\n",
    "   "
   ]
  },
  {
   "cell_type": "code",
   "execution_count": 429,
   "id": "ed92d961-9646-4375-a386-ccc320a958f5",
   "metadata": {},
   "outputs": [
    {
     "data": {
      "text/plain": [
       "{'collaborative': False,\n",
       " 'description': '',\n",
       " 'external_urls': {'spotify': 'https://open.spotify.com/playlist/4lgseztVwmKQ8MNETPVIny'},\n",
       " 'href': 'https://api.spotify.com/v1/playlists/4lgseztVwmKQ8MNETPVIny',\n",
       " 'id': '4lgseztVwmKQ8MNETPVIny',\n",
       " 'images': [{'height': 640,\n",
       "   'url': 'https://mosaic.scdn.co/640/ab67616d00001e0213b3e37318a0c247b550bccdab67616d00001e027862811f80ae629373954f0dab67616d00001e0294c9217a398f5174757c0c78ab67616d00001e02a56534bde4ee3ca23b15a018',\n",
       "   'width': 640},\n",
       "  {'height': 300,\n",
       "   'url': 'https://mosaic.scdn.co/300/ab67616d00001e0213b3e37318a0c247b550bccdab67616d00001e027862811f80ae629373954f0dab67616d00001e0294c9217a398f5174757c0c78ab67616d00001e02a56534bde4ee3ca23b15a018',\n",
       "   'width': 300},\n",
       "  {'height': 60,\n",
       "   'url': 'https://mosaic.scdn.co/60/ab67616d00001e0213b3e37318a0c247b550bccdab67616d00001e027862811f80ae629373954f0dab67616d00001e0294c9217a398f5174757c0c78ab67616d00001e02a56534bde4ee3ca23b15a018',\n",
       "   'width': 60}],\n",
       " 'name': 'foodora dinner playlist',\n",
       " 'owner': {'display_name': 'Spotify',\n",
       "  'external_urls': {'spotify': 'https://open.spotify.com/user/spotify'},\n",
       "  'href': 'https://api.spotify.com/v1/users/spotify',\n",
       "  'id': 'spotify',\n",
       "  'type': 'user',\n",
       "  'uri': 'spotify:user:spotify'},\n",
       " 'primary_color': None,\n",
       " 'public': True,\n",
       " 'snapshot_id': 'AAAAA6kbP28MYv9/NL7j+YDrFxk/95fP',\n",
       " 'tracks': {'href': 'https://api.spotify.com/v1/playlists/4lgseztVwmKQ8MNETPVIny/tracks',\n",
       "  'total': 25},\n",
       " 'type': 'playlist',\n",
       " 'uri': 'spotify:playlist:4lgseztVwmKQ8MNETPVIny'}"
      ]
     },
     "execution_count": 429,
     "metadata": {},
     "output_type": "execute_result"
    }
   ],
   "source": [
    "# Your answer here\n",
    "def fetch_featured_playlists():\n",
    "    # Fetch featured playlists\n",
    "    featured_playlists = sp.featured_playlists(limit=5)\n",
    "    playlists_info = []\n",
    "    \n",
    "    # Extract names and IDs of top 5 featured playlists\n",
    "    for playlist in featured_playlists['playlists']['items']:\n",
    "        playlists_info.append({'name': playlist['name'], 'id': playlist['id']})\n",
    "    \n",
    "    return playlists_info\n",
    "\n",
    "def fetch_playlist_details(playlist_id):\n",
    "    # Fetch playlist details\n",
    "    playlist = sp.playlist(playlist_id)\n",
    "    \n",
    "    # Extract relevant details\n",
    "    playlist_name = playlist['name']\n",
    "    playlist_description = playlist['description']\n",
    "    total_tracks = playlist['tracks']['total']\n",
    "    \n",
    "    return playlist_name, playlist_description, total_tracks, playlist['tracks']['items']\n",
    "playlist\n"
   ]
  },
  {
   "cell_type": "code",
   "execution_count": null,
   "id": "7ee37ef4-effd-4925-9e10-cfb0491bd7fc",
   "metadata": {},
   "outputs": [],
   "source": []
  }
 ],
 "metadata": {
  "kernelspec": {
   "display_name": "Python [conda env:base] *",
   "language": "python",
   "name": "conda-base-py"
  },
  "language_info": {
   "codemirror_mode": {
    "name": "ipython",
    "version": 3
   },
   "file_extension": ".py",
   "mimetype": "text/x-python",
   "name": "python",
   "nbconvert_exporter": "python",
   "pygments_lexer": "ipython3",
   "version": "3.12.7"
  }
 },
 "nbformat": 4,
 "nbformat_minor": 5
}
